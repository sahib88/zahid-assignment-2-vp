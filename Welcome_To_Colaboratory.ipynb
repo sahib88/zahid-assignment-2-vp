{
  "nbformat": 4,
  "nbformat_minor": 0,
  "metadata": {
    "colab": {
      "name": "Welcome To Colaboratory",
      "provenance": [],
      "collapsed_sections": [],
      "include_colab_link": true
    },
    "kernelspec": {
      "display_name": "Python 3",
      "name": "python3"
    }
  },
  "cells": [
    {
      "cell_type": "markdown",
      "metadata": {
        "id": "view-in-github",
        "colab_type": "text"
      },
      "source": [
        "<a href=\"https://colab.research.google.com/github/sahib88/zahid-assignment-2-vp/blob/main/Welcome_To_Colaboratory.ipynb\" target=\"_parent\"><img src=\"https://colab.research.google.com/assets/colab-badge.svg\" alt=\"Open In Colab\"/></a>"
      ]
    },
    {
      "cell_type": "code",
      "metadata": {
        "id": "KfzEY1eqfjjf",
        "outputId": "d0761bc1-5a8e-4a10-cff9-e544a22c586f",
        "colab": {
          "base_uri": "https://localhost:8080/"
        }
      },
      "source": [
        " \n",
        "from math import pi\n",
        "r = float(input (\"Input the radius of the circle : \"))\n",
        "print (\"The area of the circle with radius \" + str(r) + \" is: \" + str(pi * r**2))"
      ],
      "execution_count": 1,
      "outputs": [
        {
          "output_type": "stream",
          "text": [
            "Input the radius of the circle : 14\n",
            "The area of the circle with radius 14.0 is: 615.7521601035994\n"
          ],
          "name": "stdout"
        }
      ]
    },
    {
      "cell_type": "code",
      "metadata": {
        "id": "XYCEz5rqgBBP",
        "outputId": "09fd4189-507c-47c9-f303-040015619199",
        "colab": {
          "base_uri": "https://localhost:8080/"
        }
      },
      "source": [
        " \n",
        "values = input(\"Input some comma seprated numbers : \")\n",
        "list = values.split(\",\")\n",
        "tuple = tuple(list)\n",
        "print('List : ',list)\n",
        "print('Tuple : ',tuple)"
      ],
      "execution_count": 2,
      "outputs": [
        {
          "output_type": "stream",
          "text": [
            "Input some comma seprated numbers : 1,9,0\n",
            "List :  ['1', '9', '0']\n",
            "Tuple :  ('1', '9', '0')\n"
          ],
          "name": "stdout"
        }
      ]
    },
    {
      "cell_type": "code",
      "metadata": {
        "id": "5WwGAABkgKGf",
        "outputId": "797e3a72-c0cf-4895-9691-657cb48deca9",
        "colab": {
          "base_uri": "https://localhost:8080/"
        }
      },
      "source": [
        " \n",
        "def test_distinct(data):\n",
        "  if len(data) == len(set(data)):\n",
        "    return True\n",
        "  else:\n",
        "    return False;\n",
        "print(test_distinct([1,5,7,9]))\n",
        "print(test_distinct([2,4,5,5,7,9]))"
      ],
      "execution_count": 3,
      "outputs": [
        {
          "output_type": "stream",
          "text": [
            "True\n",
            "False\n"
          ],
          "name": "stdout"
        }
      ]
    },
    {
      "cell_type": "code",
      "metadata": {
        "id": "C4erLEB9gO0U",
        "outputId": "61aad5c5-1015-4770-fe41-cefd2ec950da",
        "colab": {
          "base_uri": "https://localhost:8080/"
        }
      },
      "source": [
        " \n",
        "def remove_nums(int_list):\n",
        "  #list starts with 0 index\n",
        "  position = 3 - 1 \n",
        "  idx = 0\n",
        "  len_list = (len(int_list))\n",
        "  while len_list>0:\n",
        "    idx = (position+idx)%len_list\n",
        "    print(int_list.pop(idx))\n",
        "    len_list -= 1\n",
        "nums = [10,20,30,40,50,60,70,80,90]\n",
        "remove_nums(nums)"
      ],
      "execution_count": 4,
      "outputs": [
        {
          "output_type": "stream",
          "text": [
            "30\n",
            "60\n",
            "90\n",
            "40\n",
            "80\n",
            "50\n",
            "20\n",
            "70\n",
            "10\n"
          ],
          "name": "stdout"
        }
      ]
    }
  ]
}